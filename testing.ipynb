{
 "cells": [
  {
   "cell_type": "code",
   "execution_count": 4,
   "metadata": {},
   "outputs": [],
   "source": [
    "import os\n",
    "import cv2\n",
    "import numpy as np\n",
    "from sklearn import linear_model\n",
    "from sklearn import preprocessing\n",
    "\n",
    "train_path = r'C:\\Users\\nickp\\OneDrive\\Documents\\class\\cs520\\Assignment 4\\assignment4\\train images'\n",
    "test_path = r'C:\\Users\\nickp\\OneDrive\\Documents\\class\\cs520\\Assignment 4\\assignment4\\test images\\test02.jpeg'"
   ]
  },
  {
   "cell_type": "code",
   "execution_count": 2,
   "metadata": {},
   "outputs": [],
   "source": [
    "train_images = [f for f in os.listdir(train_path) if os.path.isfile(os.path.join(train_path, f))]"
   ]
  },
  {
   "cell_type": "markdown",
   "metadata": {},
   "source": [
    "# Train"
   ]
  },
  {
   "cell_type": "code",
   "execution_count": 8,
   "metadata": {},
   "outputs": [],
   "source": [
    "X = []\n",
    "yr,yg,yb = [],[],[]\n",
    "\n",
    "for img in train_images:\n",
    "    \n",
    "    img_path = os.path.join(train_path, img)\n",
    "    gray_img = cv2.imread(img_path, cv2.IMREAD_GRAYSCALE)\n",
    "    color_img = cv2.imread(img_path, cv2.IMREAD_COLOR)\n",
    "\n",
    "    for i in range(color_img.shape[0]):\n",
    "        for j in range(color_img.shape[1]):\n",
    "            \n",
    "            # get data from surrounding pixels\n",
    "            SURROUNDING = [(i-1, j-1), (i-1, j), (i-1,j+1),(i, j-1),\n",
    "                           (i, j), (i,j+1),(i+1, j-1), (i+1, j), (i+1,j+1)]\n",
    "            pixels = []\n",
    "            for n, m in SURROUNDING:\n",
    "                if ((0 <= n <= gray_img.shape[0]-1) \n",
    "                    and (0 <= m <= gray_img.shape[1]-1)):\n",
    "                    pixels.append(gray_img[n,m])\n",
    "                else:\n",
    "                    pixels.append(gray_img[i,j])\n",
    "                    \n",
    "            X.append(pixels)\n",
    "            yr.append([color_img[i,j,0].tolist()])\n",
    "            yg.append([color_img[i,j,1].tolist()])\n",
    "            yb.append([color_img[i,j,2].tolist()])\n",
    "            \n",
    "X = np.array(X)\n",
    "yr = np.array(yr).reshape(-1)\n",
    "yg = np.array(yg).reshape(-1)\n",
    "yb = np.array(yb).reshape(-1)\n",
    "\n",
    "red = linear_model.LinearRegression().fit(X,yr);\n",
    "green = linear_model.LinearRegression().fit(X,yg);\n",
    "blue = linear_model.LinearRegression().fit(X,yb);"
   ]
  },
  {
   "cell_type": "code",
   "execution_count": 9,
   "metadata": {},
   "outputs": [
    {
     "data": {
      "text/plain": [
       "array([ 4.61757357e-03, -9.17794196e-04, -2.55062815e-03, -2.55565915e-02,\n",
       "        9.61279873e-01, -2.63153773e-02,  3.97873726e-02,  2.35625987e-02,\n",
       "        8.53389685e-03])"
      ]
     },
     "execution_count": 9,
     "metadata": {},
     "output_type": "execute_result"
    }
   ],
   "source": [
    "red.coef_"
   ]
  },
  {
   "cell_type": "markdown",
   "metadata": {},
   "source": [
    "# Test"
   ]
  },
  {
   "cell_type": "code",
   "execution_count": 5,
   "metadata": {},
   "outputs": [
    {
     "data": {
      "text/plain": [
       "True"
      ]
     },
     "execution_count": 5,
     "metadata": {},
     "output_type": "execute_result"
    }
   ],
   "source": [
    "img = cv2.imread(test_path, cv2.IMREAD_GRAYSCALE)\n",
    "colored_img = np.zeros((img.shape[0],img.shape[1],3))\n",
    "\n",
    "for i in range(img.shape[0]):\n",
    "    for j in range(img.shape[1]):\n",
    "\n",
    "        # get data from surrounding pixels\n",
    "        SURROUNDING = [\n",
    "            (i-1, j-1), (i-1, j), (i-1,j+1),\n",
    "            (i, j-1), (i, j), (i,j+1), \n",
    "            (i+1, j-1), (i+1, j), (i+1,j+1)\n",
    "        ]\n",
    "        pixels = []\n",
    "        for n, m in SURROUNDING:\n",
    "\n",
    "            if (0 <= n <= img.shape[0]-1) and (0 <= m <= img.shape[1]-1):\n",
    "                pixels.append(img[n,m])\n",
    "            else:\n",
    "                pixels.append(img[i,j])\n",
    "\n",
    "        r = red.predict(np.array(pixels).reshape(1,-1))\n",
    "        g = blue.predict(np.array(pixels).reshape(1,-1))\n",
    "        b = green.predict(np.array(pixels).reshape(1,-1))\n",
    "        colored_img[i,j,0] = int(r)\n",
    "        colored_img[i,j,1] = int(g)\n",
    "        colored_img[i,j,2] = int(b)\n",
    "\n",
    "cv2.imwrite('colorized.png',colored_img)"
   ]
  },
  {
   "cell_type": "markdown",
   "metadata": {},
   "source": [
    "# Train"
   ]
  },
  {
   "cell_type": "code",
   "execution_count": 6,
   "metadata": {},
   "outputs": [],
   "source": [
    "ploy = preprocessing.PolynomialFeatures(degree=3, include_bias=False)\n",
    "Xnew = ploy.fit_transform(X)\n",
    "red = linear_model.LinearRegression().fit(Xnew,yr);\n",
    "green = linear_model.LinearRegression().fit(Xnew,yg);\n",
    "blue = linear_model.LinearRegression().fit(Xnew,yb);"
   ]
  },
  {
   "cell_type": "markdown",
   "metadata": {},
   "source": [
    "# Test"
   ]
  },
  {
   "cell_type": "code",
   "execution_count": 7,
   "metadata": {},
   "outputs": [
    {
     "data": {
      "text/plain": [
       "True"
      ]
     },
     "execution_count": 7,
     "metadata": {},
     "output_type": "execute_result"
    }
   ],
   "source": [
    "img = cv2.imread(test_path, cv2.IMREAD_GRAYSCALE)\n",
    "colored_img = np.zeros((img.shape[0],img.shape[1],3))\n",
    "\n",
    "for i in range(img.shape[0]):\n",
    "    for j in range(img.shape[1]):\n",
    "\n",
    "        # get data from surrounding pixels\n",
    "        SURROUNDING = [\n",
    "            (i-1, j-1), (i-1, j), (i-1,j+1),\n",
    "            (i, j-1), (i, j), (i,j+1), \n",
    "            (i+1, j-1), (i+1, j), (i+1,j+1)\n",
    "        ]\n",
    "        pixels = []\n",
    "        for n, m in SURROUNDING:\n",
    "\n",
    "            if (0 <= n <= img.shape[0]-1) and (0 <= m <= img.shape[1]-1):\n",
    "                pixels.append(img[n,m])\n",
    "            else:\n",
    "                pixels.append(img[i,j])\n",
    "\n",
    "        dat = ploy.fit_transform(np.array(pixels).reshape(1, -1))\n",
    "\n",
    "        r = red.predict(dat.reshape(1,-1))\n",
    "        g = green.predict(dat.reshape(1,-1))\n",
    "        b = blue.predict(dat.reshape(1,-1))\n",
    "        \n",
    "        colored_img[i,j,0] = int(r)\n",
    "        colored_img[i,j,1] = int(g)\n",
    "        colored_img[i,j,2] = int(b)\n",
    "\n",
    "cv2.imwrite('colorized2.png',colored_img)"
   ]
  },
  {
   "cell_type": "markdown",
   "metadata": {},
   "source": [
    "# Train"
   ]
  },
  {
   "cell_type": "code",
   "execution_count": 9,
   "metadata": {},
   "outputs": [],
   "source": [
    "red = linear_model.Ridge().fit(X,yr);\n",
    "green = linear_model.Ridge().fit(X,yg);\n",
    "blue = linear_model.Ridge().fit(X,yb);"
   ]
  },
  {
   "cell_type": "code",
   "execution_count": 10,
   "metadata": {},
   "outputs": [
    {
     "data": {
      "text/plain": [
       "array([ 4.61757064e-03, -9.17788537e-04, -2.55062887e-03, -2.55565874e-02,\n",
       "        9.61279862e-01, -2.63153734e-02,  3.97873716e-02,  2.35626044e-02,\n",
       "        8.53389394e-03])"
      ]
     },
     "execution_count": 10,
     "metadata": {},
     "output_type": "execute_result"
    }
   ],
   "source": [
    "red.coef_"
   ]
  },
  {
   "cell_type": "code",
   "execution_count": 11,
   "metadata": {},
   "outputs": [
    {
     "data": {
      "text/plain": [
       "array([ 3.83631932e-03, -1.88565970e-03,  3.62460920e-03, -5.69922673e-04,\n",
       "        9.99794127e-01, -3.71971294e-03,  1.00866317e-02, -1.50387184e-03,\n",
       "        1.93901101e-02])"
      ]
     },
     "execution_count": 11,
     "metadata": {},
     "output_type": "execute_result"
    }
   ],
   "source": [
    "green.coef_"
   ]
  },
  {
   "cell_type": "code",
   "execution_count": 12,
   "metadata": {},
   "outputs": [
    {
     "data": {
      "text/plain": [
       "array([-6.73586193e-03,  1.03733570e-02,  1.75673205e-04,  5.06437044e-03,\n",
       "        9.92641776e-01,  1.19458900e-02, -2.67820504e-02,  1.92225554e-04,\n",
       "       -3.73584741e-02])"
      ]
     },
     "execution_count": 12,
     "metadata": {},
     "output_type": "execute_result"
    }
   ],
   "source": [
    "blue.coef_"
   ]
  },
  {
   "cell_type": "code",
   "execution_count": 13,
   "metadata": {},
   "outputs": [
    {
     "data": {
      "text/plain": [
       "True"
      ]
     },
     "execution_count": 13,
     "metadata": {},
     "output_type": "execute_result"
    }
   ],
   "source": [
    "img = cv2.imread(test_path, cv2.IMREAD_GRAYSCALE)\n",
    "colored_img = np.zeros((img.shape[0],img.shape[1],3))\n",
    "\n",
    "for i in range(img.shape[0]):\n",
    "    for j in range(img.shape[1]):\n",
    "\n",
    "        # get data from surrounding pixels\n",
    "        SURROUNDING = [\n",
    "            (i-1, j-1), (i-1, j), (i-1,j+1),\n",
    "            (i, j-1), (i, j), (i,j+1), \n",
    "            (i+1, j-1), (i+1, j), (i+1,j+1)\n",
    "        ]\n",
    "        pixels = []\n",
    "        for n, m in SURROUNDING:\n",
    "\n",
    "            if (0 <= n <= img.shape[0]-1) and (0 <= m <= img.shape[1]-1):\n",
    "                pixels.append(img[n,m])\n",
    "            else:\n",
    "                pixels.append(img[i,j])\n",
    "\n",
    "        r = red.predict(np.array(pixels).reshape(1,-1))\n",
    "        g = blue.predict(np.array(pixels).reshape(1,-1))\n",
    "        b = green.predict(np.array(pixels).reshape(1,-1))\n",
    "        colored_img[i,j,0] = int(r)\n",
    "        colored_img[i,j,1] = int(g)\n",
    "        colored_img[i,j,2] = int(b)\n",
    "\n",
    "cv2.imwrite('colorized3.png',colored_img)"
   ]
  },
  {
   "cell_type": "code",
   "execution_count": null,
   "metadata": {},
   "outputs": [],
   "source": []
  },
  {
   "cell_type": "code",
   "execution_count": null,
   "metadata": {},
   "outputs": [],
   "source": []
  },
  {
   "cell_type": "code",
   "execution_count": null,
   "metadata": {},
   "outputs": [],
   "source": []
  },
  {
   "cell_type": "code",
   "execution_count": 14,
   "metadata": {},
   "outputs": [],
   "source": [
    "from sklearn.linear_model import ElasticNet"
   ]
  },
  {
   "cell_type": "code",
   "execution_count": null,
   "metadata": {},
   "outputs": [],
   "source": [
    "red = ElasticNet(random_state=0).fit(Xnew, yr)\n",
    "blue = ElasticNet(random_state=0).fit(Xnew, yb)\n",
    "green = ElasticNet(random_state=0).fit(Xnew, yg)"
   ]
  },
  {
   "cell_type": "code",
   "execution_count": null,
   "metadata": {},
   "outputs": [],
   "source": [
    "red.coef_"
   ]
  },
  {
   "cell_type": "code",
   "execution_count": null,
   "metadata": {},
   "outputs": [],
   "source": [
    "img = cv2.imread(test_path, cv2.IMREAD_GRAYSCALE)\n",
    "colored_img = np.zeros((img.shape[0],img.shape[1],3))\n",
    "\n",
    "for i in range(img.shape[0]):\n",
    "    for j in range(img.shape[1]):\n",
    "\n",
    "        # get data from surrounding pixels\n",
    "        SURROUNDING = [\n",
    "            (i-1, j-1), (i-1, j), (i-1,j+1),\n",
    "            (i, j-1), (i, j), (i,j+1), \n",
    "            (i+1, j-1), (i+1, j), (i+1,j+1)\n",
    "        ]\n",
    "        pixels = []\n",
    "        for n, m in SURROUNDING:\n",
    "\n",
    "            if (0 <= n <= img.shape[0]-1) and (0 <= m <= img.shape[1]-1):\n",
    "                pixels.append(img[n,m])\n",
    "            else:\n",
    "                pixels.append(img[i,j])\n",
    "\n",
    "        dat = ploy.fit_transform(np.array(pixels).reshape(1, -1))\n",
    "\n",
    "        r = red.predict(dat.reshape(1,-1))\n",
    "        g = green.predict(dat.reshape(1,-1))\n",
    "        b = blue.predict(dat.reshape(1,-1))\n",
    "        \n",
    "        colored_img[i,j,0] = int(r)\n",
    "        colored_img[i,j,1] = int(g)\n",
    "        colored_img[i,j,2] = int(b)\n",
    "\n",
    "cv2.imwrite('colorized3.png',colored_img)"
   ]
  },
  {
   "cell_type": "code",
   "execution_count": null,
   "metadata": {},
   "outputs": [],
   "source": []
  }
 ],
 "metadata": {
  "kernelspec": {
   "display_name": "Python 3",
   "language": "python",
   "name": "python3"
  },
  "language_info": {
   "codemirror_mode": {
    "name": "ipython",
    "version": 3
   },
   "file_extension": ".py",
   "mimetype": "text/x-python",
   "name": "python",
   "nbconvert_exporter": "python",
   "pygments_lexer": "ipython3",
   "version": "3.6.5"
  }
 },
 "nbformat": 4,
 "nbformat_minor": 2
}
